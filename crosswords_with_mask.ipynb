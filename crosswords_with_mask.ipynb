{
  "nbformat": 4,
  "nbformat_minor": 0,
  "metadata": {
    "colab": {
      "name": "crosswords_with_mask.ipynb",
      "provenance": [],
      "collapsed_sections": [],
      "toc_visible": true,
      "authorship_tag": "ABX9TyNxxVKBmv/AdmobQ4+ZiMPa",
      "include_colab_link": true
    },
    "kernelspec": {
      "name": "python3",
      "display_name": "Python 3"
    }
  },
  "cells": [
    {
      "cell_type": "markdown",
      "metadata": {
        "id": "view-in-github",
        "colab_type": "text"
      },
      "source": [
        "<a href=\"https://colab.research.google.com/github/mariettas/python_projects/blob/master/crosswords_with_mask.ipynb\" target=\"_parent\"><img src=\"https://colab.research.google.com/assets/colab-badge.svg\" alt=\"Open In Colab\"/></a>"
      ]
    },
    {
      "cell_type": "code",
      "metadata": {
        "id": "-DkD_upj-jdG",
        "colab_type": "code",
        "outputId": "aca2a127-1415-4d29-d2f6-2b323b147c79",
        "colab": {
          "base_uri": "https://localhost:8080/",
          "height": 35
        }
      },
      "source": [
        "with open('germanTest.txt','r') as fd:\n",
        "    all_words = fd.read().splitlines()\n",
        "\n",
        "print(all_words[:3])"
      ],
      "execution_count": 11,
      "outputs": [
        {
          "output_type": "stream",
          "text": [
            "['Abbauprofil', 'Abbauprofile', 'Abbauprofilen']\n"
          ],
          "name": "stdout"
        }
      ]
    },
    {
      "cell_type": "code",
      "metadata": {
        "id": "Hjat4q9SNe00",
        "colab_type": "code",
        "outputId": "68fadec1-dc29-48f5-e042-39d0a5c009d3",
        "colab": {
          "base_uri": "https://localhost:8080/",
          "height": 54
        }
      },
      "source": [
        "needed_word=input(\"Enter needed word using '_' for unknown letters. Example: e,_,a,m,_,_,e: \").lower().strip().split(',')\n",
        "print(type(needed_word))"
      ],
      "execution_count": 12,
      "outputs": [
        {
          "output_type": "stream",
          "text": [
            "Enter needed word using '_' for unknown letters. Example: e,_,a,m,_,_,e: _,r,e,_,i,g,e\n",
            "<class 'list'>\n"
          ],
          "name": "stdout"
        }
      ]
    },
    {
      "cell_type": "code",
      "metadata": {
        "id": "igg8b3DuOBEW",
        "colab_type": "code",
        "outputId": "b3115ea2-2d5e-45a5-9222-5c0ef7c99681",
        "colab": {
          "base_uri": "https://localhost:8080/",
          "height": 35
        }
      },
      "source": [
        "nw_indices=list(enumerate(needed_word))\n",
        "print(nw_indices)\n",
        "\n",
        "#for i, letter in enumerate(needed_word): #return index of letters; HERE: index will be the same for repeating letters\n",
        "#  print(i,letter)\n",
        "  \n",
        "      "
      ],
      "execution_count": 25,
      "outputs": [
        {
          "output_type": "stream",
          "text": [
            "[(0, '_'), (1, 'r'), (2, 'e'), (3, '_'), (4, 'i'), (5, 'g'), (6, 'e')]\n"
          ],
          "name": "stdout"
        }
      ]
    },
    {
      "cell_type": "code",
      "metadata": {
        "id": "0avSQrGNm2I9",
        "colab_type": "code",
        "colab": {
          "base_uri": "https://localhost:8080/",
          "height": 35
        },
        "outputId": "8bf5e43d-bd39-4bfb-d4f2-69b50a8121dc"
      },
      "source": [
        "for element in nw_indices:\n",
        "  if '_' in element:\n",
        "    nw_indices.remove(element)\n",
        "print(nw_indices)\n"
      ],
      "execution_count": 29,
      "outputs": [
        {
          "output_type": "stream",
          "text": [
            "[(1, 'r'), (2, 'e'), (4, 'i'), (5, 'g'), (6, 'e')]\n"
          ],
          "name": "stdout"
        }
      ]
    },
    {
      "cell_type": "code",
      "metadata": {
        "id": "iUe4YVGrps9Z",
        "colab_type": "code",
        "colab": {}
      },
      "source": [
        "#compare nw_indices with indices of list with german words\n",
        "for word in all_words:\n",
        "  aw_indices=list(enumerate(word))\n",
        "  #print(aw_indices)\n",
        "  if #index of letters in aw_indices == index of letters in nw_indices:\n",
        "    #print(matches)\n",
        "\n",
        " "
      ],
      "execution_count": 0,
      "outputs": []
    },
    {
      "cell_type": "code",
      "metadata": {
        "id": "7rKMLwlzfOls",
        "colab_type": "code",
        "colab": {}
      },
      "source": [
        ""
      ],
      "execution_count": 0,
      "outputs": []
    }
  ]
}