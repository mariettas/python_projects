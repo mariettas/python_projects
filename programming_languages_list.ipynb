{
  "nbformat": 4,
  "nbformat_minor": 0,
  "metadata": {
    "colab": {
      "name": "programming_languages_list.ipynb",
      "provenance": [],
      "authorship_tag": "ABX9TyNLJmW3vKlftFtOGPuV5V3M",
      "include_colab_link": true
    },
    "kernelspec": {
      "name": "python3",
      "display_name": "Python 3"
    }
  },
  "cells": [
    {
      "cell_type": "markdown",
      "metadata": {
        "id": "view-in-github",
        "colab_type": "text"
      },
      "source": [
        "<a href=\"https://colab.research.google.com/github/mariettas/python_projects/blob/master/programming_languages_list.ipynb\" target=\"_parent\"><img src=\"https://colab.research.google.com/assets/colab-badge.svg\" alt=\"Open In Colab\"/></a>"
      ]
    },
    {
      "cell_type": "code",
      "metadata": {
        "id": "JA-MN7m4UxXD",
        "colab_type": "code",
        "colab": {}
      },
      "source": [
        "programming_languages = ['Python_3.7.2','Python_3.7.0','Node_10.0.0','Java_1.8.0','Java_1.7.0','Node_11.0.0']"
      ],
      "execution_count": 0,
      "outputs": []
    },
    {
      "cell_type": "code",
      "metadata": {
        "id": "GfEyLQNuVOQJ",
        "colab_type": "code",
        "colab": {}
      },
      "source": [
        "#check whether an element is in the list\n",
        "def element_in_list(name,liste):\n",
        "    is_in_list = False\n",
        "    for name_in_list in liste:\n",
        "        if name_in_list == name:\n",
        "            is_in_list = True\n",
        "\n",
        "    return(is_in_list)"
      ],
      "execution_count": 0,
      "outputs": []
    },
    {
      "cell_type": "code",
      "metadata": {
        "id": "k7AB9XeRVdNp",
        "colab_type": "code",
        "colab": {}
      },
      "source": [
        "#'Python_3.7.2'.split('_')[0] = Python\n",
        "def remove_version(name_with_version):\n",
        "    return(name_with_version.split('_')[0])"
      ],
      "execution_count": 0,
      "outputs": []
    },
    {
      "cell_type": "code",
      "metadata": {
        "id": "tY0plBwtVjFd",
        "colab_type": "code",
        "colab": {}
      },
      "source": [
        "#'3.7.2' -> 372\n",
        "def version_to_int(version):\n",
        "    list_of_numbers=version.split('.') #['3', '7', '2']\n",
        "    joined_numbers=''.join(list_of_numbers) #'372'\n",
        "    version_int=int(joined_numbers) #372\n",
        "    return(version_int)"
      ],
      "execution_count": 0,
      "outputs": []
    },
    {
      "cell_type": "code",
      "metadata": {
        "id": "QXooXwC8WU9V",
        "colab_type": "code",
        "colab": {}
      },
      "source": [
        "#'Python_3.7.2' -> '3.7.2'\n",
        "def get_version(version_with_name):\n",
        "    return(version_with_name.split('_')[1])\n"
      ],
      "execution_count": 0,
      "outputs": []
    },
    {
      "cell_type": "code",
      "metadata": {
        "id": "io5lhuU_Wdiw",
        "colab_type": "code",
        "colab": {}
      },
      "source": [
        "def first_is_bigger(num1,num2):\n",
        "    return(num1>num2)\n",
        "\n",
        "#print(first_is_bigger(version_to_int(get_version('Python_3.7.2')),version_to_int(get_version('Python_3.6.2'))))"
      ],
      "execution_count": 0,
      "outputs": []
    },
    {
      "cell_type": "code",
      "metadata": {
        "id": "_pw09aR4WkCJ",
        "colab_type": "code",
        "colab": {}
      },
      "source": [
        "#compare 2 versions with the same name but with different versions, and return the version that should NOT be replaced\n",
        "def should_replace(name_with_version1,name_with_version2):\n",
        "    version1=get_version(name_with_version1)    #'Python_3.7.2' -> '3.7.2'\n",
        "    version2=get_version(name_with_version2)    #'Python_3.7.2' -> '3.7.0'\n",
        "    version1_int=version_to_int(version1)       #'3.7.2' -> 372\n",
        "    version2_int=version_to_int(version2)       #'3.7.0' -> 370\n",
        "    bigger_version=first_is_bigger(version1_int,version2_int) #372>370? -> True\n",
        "    return(not bigger_version)  #bigger version should NOT be replaced\n",
        "\n",
        "#print(should_replace('Python_3.7.2','Python_3.6.2'))"
      ],
      "execution_count": 0,
      "outputs": []
    },
    {
      "cell_type": "code",
      "metadata": {
        "id": "FMNGXNmtWxoJ",
        "colab_type": "code",
        "colab": {}
      },
      "source": [
        "#remove the version from the name, give the name an index and put it in a list; will return the index of the name\n",
        "def language_in_list(name,liste):\n",
        "    name_without_version=remove_version(name) # 'Python_3.7.2'.split('_')[0] = Python\n",
        "    index=False                             #no index is given\n",
        "    \n",
        "    for i, name_in_list in enumerate(liste): #for every index and name in list enumerate (The enumerate() function adds a counter as the key of the enumerate object.)\n",
        "        if remove_version(name_in_list) == name_without_version:    #for every language+version in list we remove the version   \n",
        "            is_in_list = True               #and put the element in the list\n",
        "            index=i                         # and give it an index\n",
        " \n",
        "    return(index)\n",
        "\n",
        "#print(language_in_list('Node_3.7.2',programming_languages))"
      ],
      "execution_count": 0,
      "outputs": []
    },
    {
      "cell_type": "code",
      "metadata": {
        "id": "NqvJBCO7YCIV",
        "colab_type": "code",
        "colab": {}
      },
      "source": [
        "\n",
        "#return the programming languages without version, unique values (i.e. only 1 Java, only 1 Python)\n",
        "def lang_names(parsed_list):\n",
        "    prog_lang_name=[]\n",
        "    \n",
        "    for name_with_version in parsed_list:   #for every programming language with version in the given list\n",
        "        name_without_version=remove_version(name_with_version)      #we remove the version from the name\n",
        "        #print(not element_in_list(name_without_version,prog_lang_name),name_without_version,prog_lang_name)\n",
        "               \n",
        "        if not element_in_list(name_without_version,prog_lang_name): #if name_without_version is not in prog_lang_name list:\n",
        "            prog_lang_name.append(name_without_version)         #add the name_without_version to the list\n",
        "            \n",
        "    return(prog_lang_name)\n",
        "\n",
        "\n",
        "#print(lang_names(programming_languages))"
      ],
      "execution_count": 0,
      "outputs": []
    },
    {
      "cell_type": "code",
      "metadata": {
        "id": "fwrxW8Q_Yig9",
        "colab_type": "code",
        "colab": {
          "base_uri": "https://localhost:8080/",
          "height": 35
        },
        "outputId": "45824bb8-80b6-4f47-ca3e-66a8e3dcd37c"
      },
      "source": [
        "def highest_version_list(list_with_version):\n",
        "    prog_lang_name=[]\n",
        "    for name_with_version in list_with_version: #for every programming language with version in the given list\n",
        "        language_index=language_in_list(name_with_version,prog_lang_name)   #the new variable \"language_index\" takes the names\n",
        "                                                                            # with their versions and the list containing the unique names and returns their index  \n",
        "\n",
        "        \n",
        "        if language_index != False:                \n",
        "            if should_replace(prog_lang_name[language_index],name_with_version):\n",
        "                prog_lang_name[language_index]=name_with_version\n",
        "        else:\n",
        "            prog_lang_name.append(name_with_version)\n",
        "            \n",
        "            \n",
        "    return(prog_lang_name)\n",
        "\n",
        "\n",
        "print(highest_version_list(programming_languages))"
      ],
      "execution_count": 13,
      "outputs": [
        {
          "output_type": "stream",
          "text": [
            "['Python_3.7.2', 'Python_3.7.0', 'Node_11.0.0', 'Java_1.8.0']\n"
          ],
          "name": "stdout"
        }
      ]
    }
  ]
}